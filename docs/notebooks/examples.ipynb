{
 "cells": [
  {
   "cell_type": "code",
   "execution_count": null,
   "metadata": {},
   "outputs": [],
   "source": [
    "import matplotlib.pyplot as plt\n",
    "import numpy as onp\n",
    "\n",
    "import ccmaps"
   ]
  },
  {
   "cell_type": "code",
   "execution_count": null,
   "metadata": {},
   "outputs": [],
   "source": [
    "x, y = onp.meshgrid(onp.linspace(-2, 2, 100), onp.linspace(-2, 2, 100), indexing=\"ij\")\n",
    "z = onp.exp(-(x**2 + y**2))\n",
    "z /= onp.amax(z)"
   ]
  },
  {
   "cell_type": "code",
   "execution_count": null,
   "metadata": {},
   "outputs": [],
   "source": [
    "plt.figure(figsize=(4, 3.5))\n",
    "ax = plt.subplot(111)\n",
    "im = ax.imshow(z, cmap=ccmaps.wbgyr())\n",
    "im.set_clim(0, 1)\n",
    "plt.colorbar(im, location=\"bottom\")\n",
    "ax.set_title(\"ccmaps.wbgyr()\", fontsize=10)\n",
    "ax.set_xticks([])\n",
    "ax.set_yticks([])"
   ]
  },
  {
   "cell_type": "code",
   "execution_count": null,
   "metadata": {},
   "outputs": [],
   "source": [
    "plt.figure(figsize=(12, 3.5))\n",
    "for i, wavelength in enumerate((450, 550, 650)):\n",
    "    ax = plt.subplot(1, 3, i + 1)\n",
    "    im = ax.imshow(z, cmap=ccmaps.cmap_for_wavelength(wavelength))\n",
    "    im.set_clim(0, 1)\n",
    "    plt.colorbar(im, location=\"bottom\")\n",
    "    ax.set_title(f\"ccmaps.cmap_for_wavelength({wavelength}, 'k')\", fontsize=10)\n",
    "    ax.set_xticks([])\n",
    "    ax.set_yticks([])"
   ]
  },
  {
   "cell_type": "code",
   "execution_count": null,
   "metadata": {},
   "outputs": [],
   "source": [
    "x, y = onp.meshgrid(onp.linspace(-2, 2), onp.linspace(-2, 2), indexing=\"ij\")\n",
    "z = onp.exp(-(x**2 + y**2))\n",
    "z /= onp.amax(z)\n",
    "\n",
    "plt.figure(figsize=(12, 3.5))\n",
    "for i, wavelength in enumerate((450, 550, 650)):\n",
    "    ax = plt.subplot(1, 3, i + 1)\n",
    "    im = ax.imshow(z, cmap=ccmaps.cmap_for_wavelength(wavelength, \"w\"))\n",
    "    im.set_clim(0, 1)\n",
    "    plt.colorbar(im, location=\"bottom\")\n",
    "    ax.set_title(f\"ccmaps.cmap_for_wavelength({wavelength}, 'w')\", fontsize=10)\n",
    "    ax.set_xticks([])\n",
    "    ax.set_yticks([])"
   ]
  }
 ],
 "metadata": {
  "kernelspec": {
   "display_name": "invrs",
   "language": "python",
   "name": "python3"
  },
  "language_info": {
   "codemirror_mode": {
    "name": "ipython",
    "version": 3
   },
   "file_extension": ".py",
   "mimetype": "text/x-python",
   "name": "python",
   "nbconvert_exporter": "python",
   "pygments_lexer": "ipython3",
   "version": "3.10.12"
  }
 },
 "nbformat": 4,
 "nbformat_minor": 2
}

{
 "cells": [
  {
   "cell_type": "code",
   "execution_count": null,
   "metadata": {},
   "outputs": [],
   "source": [
    "import matplotlib.pyplot as plt\n",
    "import numpy as onp\n",
    "\n",
    "import ccmaps"
   ]
  },
  {
   "cell_type": "code",
   "execution_count": null,
   "metadata": {},
   "outputs": [],
   "source": [
    "def plot_gradient(ax, cmap, name):\n",
    "    gradient = onp.linspace(0, 1, 1000)\n",
    "    gradient = onp.tile(gradient[onp.newaxis, :], (50, 1))\n",
    "    im = ax.imshow(gradient, cmap=cmap)\n",
    "    ax.set_xticks([])\n",
    "    ax.set_yticks([])\n",
    "    ax.set_ylabel(name, rotation=0, ha=\"right\", va=\"center\")\n",
    "\n",
    "\n",
    "fig, axs = plt.subplots(27, 1, figsize=(5, 7))\n",
    "\n",
    "plot_gradient(axs[0], cmap=ccmaps.WBGYR, name=\"ccmaps.WBGYR\")\n",
    "axs[1].axis(False)\n",
    "\n",
    "plot_gradient(axs[2], cmap=ccmaps.BKR, name=\"ccmaps.BKR\")\n",
    "axs[3].axis(False)\n",
    "\n",
    "for i, wvl in enumerate(onp.arange(425, 700, 25)):\n",
    "    plot_gradient(axs[i + 4], cmap=ccmaps.cmap_for_wavelength(wvl), name=f\"ccmaps.cmap_for_wavelength({wvl})\")\n",
    "\n",
    "axs[15].axis(False)\n",
    "for i, wvl in enumerate(onp.arange(425, 700, 25)):\n",
    "    plot_gradient(axs[i + 16], cmap=ccmaps.cmap_for_wavelength(wvl, \"w\"), name=f\"ccmaps.cmap_for_wavelength({wvl}, 'w')\")"
   ]
  }
 ],
 "metadata": {
  "kernelspec": {
   "display_name": "invrs",
   "language": "python",
   "name": "python3"
  },
  "language_info": {
   "codemirror_mode": {
    "name": "ipython",
    "version": 3
   },
   "file_extension": ".py",
   "mimetype": "text/x-python",
   "name": "python",
   "nbconvert_exporter": "python",
   "pygments_lexer": "ipython3",
   "version": "3.10.12"
  }
 },
 "nbformat": 4,
 "nbformat_minor": 2
}
